{
 "cells": [
  {
   "cell_type": "code",
   "execution_count": 11,
   "id": "2eee1b98",
   "metadata": {},
   "outputs": [
    {
     "name": "stderr",
     "output_type": "stream",
     "text": [
      "2023-03-16 22:46:13.192811: I tensorflow/core/platform/cpu_feature_guard.cc:193] This TensorFlow binary is optimized with oneAPI Deep Neural Network Library (oneDNN) to use the following CPU instructions in performance-critical operations:  AVX2 FMA\n",
      "To enable them in other operations, rebuild TensorFlow with the appropriate compiler flags.\n",
      "2023-03-16 22:46:13.439424: W tensorflow/compiler/xla/stream_executor/platform/default/dso_loader.cc:64] Could not load dynamic library 'libcudart.so.11.0'; dlerror: libcudart.so.11.0: cannot open shared object file: No such file or directory\n",
      "2023-03-16 22:46:13.439447: I tensorflow/compiler/xla/stream_executor/cuda/cudart_stub.cc:29] Ignore above cudart dlerror if you do not have a GPU set up on your machine.\n",
      "2023-03-16 22:46:14.066511: W tensorflow/compiler/xla/stream_executor/platform/default/dso_loader.cc:64] Could not load dynamic library 'libnvinfer.so.7'; dlerror: libnvinfer.so.7: cannot open shared object file: No such file or directory\n",
      "2023-03-16 22:46:14.066585: W tensorflow/compiler/xla/stream_executor/platform/default/dso_loader.cc:64] Could not load dynamic library 'libnvinfer_plugin.so.7'; dlerror: libnvinfer_plugin.so.7: cannot open shared object file: No such file or directory\n",
      "2023-03-16 22:46:14.066590: W tensorflow/compiler/tf2tensorrt/utils/py_utils.cc:38] TF-TRT Warning: Cannot dlopen some TensorRT libraries. If you would like to use Nvidia GPU with TensorRT, please make sure the missing libraries mentioned above are installed properly.\n"
     ]
    }
   ],
   "source": [
    "import numpy as np\n",
    "import matplotlib.pyplot as plt\n",
    "from scipy import signal\n",
    "from sklearn.model_selection import train_test_split\n",
    "from sklearn.metrics import roc_auc_score, roc_curve, accuracy_score\n",
    "from tensorflow.keras import models, layers, optimizers\n"
   ]
  },
  {
   "cell_type": "code",
   "execution_count": 12,
   "id": "356eb250",
   "metadata": {},
   "outputs": [],
   "source": [
    "# Define the parameters for the simulated dataset\n",
    "n_curves = 10000\n",
    "curve_length = 1000\n",
    "period_range = [20, 200]\n",
    "depth_range = [0.01, 0.1]\n",
    "duration_range = [0.01, 0.1]\n",
    "stellar_radius_range = [0.5, 2.0]\n",
    "stellar_mass_range = [0.5, 2.0]\n",
    "noise_level_range = [0.001, 0.01]\n"
   ]
  },
  {
   "cell_type": "code",
   "execution_count": 9,
   "id": "0af9b4ab",
   "metadata": {},
   "outputs": [],
   "source": [
    "def generate_transit_curve(Rs, Rp, P, i, a, t0, b, Te, feh, logg, sigma, n=1000):\n",
    "    \"\"\"\n",
    "    Generates a simulated transit curve using batman package.\n",
    "\n",
    "    Parameters:\n",
    "        Rs (float): Stellar radius (in solar units).\n",
    "        Rp (float): Planetary radius (in Jupiter units).\n",
    "        P (float): Planetary orbital period (in days).\n",
    "        i (float): Orbital inclination (in degrees).\n",
    "        a (float): Semi-major axis (in AU).\n",
    "        t0 (float): Transit midpoint (in BJD).\n",
    "        b (float): Impact parameter.\n",
    "        Te (float): Stellar effective temperature (in K).\n",
    "        feh (float): Stellar metallicity ([Fe/H]).\n",
    "        logg (float): Stellar surface gravity (in cgs).\n",
    "        sigma (float): Observational noise (in ppm).\n",
    "        n (int, optional): Number of data points to generate. Default is 1000.\n",
    "\n",
    "    Returns:\n",
    "        time (array): Array of time values (in BJD).\n",
    "        flux (array): Array of flux values.\n",
    "    \"\"\"\n",
    "    # Set up transit parameters\n",
    "    params = batman.TransitParams()\n",
    "    params.t0 = t0                      # Transit midpoint\n",
    "    params.per = P                      # Orbital period\n",
    "    params.rp = Rp                      # Planet radius\n",
    "    params.a = a                        # Semi-major axis (in units of stellar radius)\n",
    "    params.inc = i                      # Orbital inclination (in degrees)\n",
    "    params.ecc = 0.                     # Eccentricity\n",
    "    params.w = 90.                      # Argument of periastron\n",
    "    params.u = [0.1, 0.3]               # Limb darkening coefficients\n",
    "    params.limb_dark = \"quadratic\"      # Limb darkening model\n",
    "\n",
    "    # Set up stellar parameters\n",
    "    star = batman.Star()\n",
    "    star.teff = Te                      # Effective temperature (in K)\n",
    "    star.logg = logg                    # Surface gravity (in cgs)\n",
    "    star.feh = feh                      # Metallicity ([Fe/H])\n",
    "    star.radius = Rs                    # Stellar radius (in solar units)\n",
    "\n",
    "    # Generate time array\n",
    "    time = np.linspace(t0 - 0.05*P, t0 + 0.05*P, n)\n",
    "    \n",
    "    # Generate transit model\n",
    "    m = batman.TransitModel(params, time)\n",
    "    flux = m.light_curve(star)\n",
    "\n",
    "    # Add observational noise\n",
    "    noise = np.random.normal(loc=0, scale=sigma*1e-6, size=n)\n",
    "    flux += noise\n",
    "\n",
    "    return time, flux\n"
   ]
  },
  {
   "cell_type": "code",
   "execution_count": 10,
   "id": "fe27f917",
   "metadata": {},
   "outputs": [
    {
     "ename": "AttributeError",
     "evalue": "module 'batman' has no attribute 'Star'",
     "output_type": "error",
     "traceback": [
      "\u001b[0;31m---------------------------------------------------------------------------\u001b[0m",
      "\u001b[0;31mAttributeError\u001b[0m                            Traceback (most recent call last)",
      "\u001b[0;32m/tmp/ipykernel_153856/928650682.py\u001b[0m in \u001b[0;36m<module>\u001b[0;34m\u001b[0m\n\u001b[1;32m     29\u001b[0m \u001b[0mpos_params\u001b[0m\u001b[0;34m[\u001b[0m\u001b[0;34m:\u001b[0m\u001b[0;34m,\u001b[0m \u001b[0;36m10\u001b[0m\u001b[0;34m]\u001b[0m \u001b[0;34m=\u001b[0m \u001b[0mnp\u001b[0m\u001b[0;34m.\u001b[0m\u001b[0mrandom\u001b[0m\u001b[0;34m.\u001b[0m\u001b[0muniform\u001b[0m\u001b[0;34m(\u001b[0m\u001b[0;34m*\u001b[0m\u001b[0msigma_range\u001b[0m\u001b[0;34m,\u001b[0m \u001b[0msize\u001b[0m\u001b[0;34m=\u001b[0m\u001b[0mn_pos\u001b[0m\u001b[0;34m)\u001b[0m\u001b[0;34m\u001b[0m\u001b[0;34m\u001b[0m\u001b[0m\n\u001b[1;32m     30\u001b[0m \u001b[0mpos_params\u001b[0m\u001b[0;34m[\u001b[0m\u001b[0;34m:\u001b[0m\u001b[0;34m,\u001b[0m \u001b[0;36m11\u001b[0m\u001b[0;34m]\u001b[0m \u001b[0;34m=\u001b[0m \u001b[0;36m1\u001b[0m\u001b[0;34m\u001b[0m\u001b[0;34m\u001b[0m\u001b[0m\n\u001b[0;32m---> 31\u001b[0;31m \u001b[0mpos_curves\u001b[0m \u001b[0;34m=\u001b[0m \u001b[0;34m[\u001b[0m\u001b[0mgenerate_transit_curve\u001b[0m\u001b[0;34m(\u001b[0m\u001b[0;34m*\u001b[0m\u001b[0mparams\u001b[0m\u001b[0;34m)\u001b[0m \u001b[0;32mfor\u001b[0m \u001b[0mparams\u001b[0m \u001b[0;32min\u001b[0m \u001b[0mpos_params\u001b[0m\u001b[0;34m]\u001b[0m\u001b[0;34m\u001b[0m\u001b[0;34m\u001b[0m\u001b[0m\n\u001b[0m\u001b[1;32m     32\u001b[0m \u001b[0;34m\u001b[0m\u001b[0m\n\u001b[1;32m     33\u001b[0m \u001b[0;31m# Generate negative examples\u001b[0m\u001b[0;34m\u001b[0m\u001b[0;34m\u001b[0m\u001b[0m\n",
      "\u001b[0;32m/tmp/ipykernel_153856/928650682.py\u001b[0m in \u001b[0;36m<listcomp>\u001b[0;34m(.0)\u001b[0m\n\u001b[1;32m     29\u001b[0m \u001b[0mpos_params\u001b[0m\u001b[0;34m[\u001b[0m\u001b[0;34m:\u001b[0m\u001b[0;34m,\u001b[0m \u001b[0;36m10\u001b[0m\u001b[0;34m]\u001b[0m \u001b[0;34m=\u001b[0m \u001b[0mnp\u001b[0m\u001b[0;34m.\u001b[0m\u001b[0mrandom\u001b[0m\u001b[0;34m.\u001b[0m\u001b[0muniform\u001b[0m\u001b[0;34m(\u001b[0m\u001b[0;34m*\u001b[0m\u001b[0msigma_range\u001b[0m\u001b[0;34m,\u001b[0m \u001b[0msize\u001b[0m\u001b[0;34m=\u001b[0m\u001b[0mn_pos\u001b[0m\u001b[0;34m)\u001b[0m\u001b[0;34m\u001b[0m\u001b[0;34m\u001b[0m\u001b[0m\n\u001b[1;32m     30\u001b[0m \u001b[0mpos_params\u001b[0m\u001b[0;34m[\u001b[0m\u001b[0;34m:\u001b[0m\u001b[0;34m,\u001b[0m \u001b[0;36m11\u001b[0m\u001b[0;34m]\u001b[0m \u001b[0;34m=\u001b[0m \u001b[0;36m1\u001b[0m\u001b[0;34m\u001b[0m\u001b[0;34m\u001b[0m\u001b[0m\n\u001b[0;32m---> 31\u001b[0;31m \u001b[0mpos_curves\u001b[0m \u001b[0;34m=\u001b[0m \u001b[0;34m[\u001b[0m\u001b[0mgenerate_transit_curve\u001b[0m\u001b[0;34m(\u001b[0m\u001b[0;34m*\u001b[0m\u001b[0mparams\u001b[0m\u001b[0;34m)\u001b[0m \u001b[0;32mfor\u001b[0m \u001b[0mparams\u001b[0m \u001b[0;32min\u001b[0m \u001b[0mpos_params\u001b[0m\u001b[0;34m]\u001b[0m\u001b[0;34m\u001b[0m\u001b[0;34m\u001b[0m\u001b[0m\n\u001b[0m\u001b[1;32m     32\u001b[0m \u001b[0;34m\u001b[0m\u001b[0m\n\u001b[1;32m     33\u001b[0m \u001b[0;31m# Generate negative examples\u001b[0m\u001b[0;34m\u001b[0m\u001b[0;34m\u001b[0m\u001b[0m\n",
      "\u001b[0;32m/tmp/ipykernel_153856/540099793.py\u001b[0m in \u001b[0;36mgenerate_transit_curve\u001b[0;34m(Rs, Rp, P, i, a, t0, b, Te, feh, logg, sigma, n)\u001b[0m\n\u001b[1;32m     34\u001b[0m \u001b[0;34m\u001b[0m\u001b[0m\n\u001b[1;32m     35\u001b[0m     \u001b[0;31m# Set up stellar parameters\u001b[0m\u001b[0;34m\u001b[0m\u001b[0;34m\u001b[0m\u001b[0m\n\u001b[0;32m---> 36\u001b[0;31m     \u001b[0mstar\u001b[0m \u001b[0;34m=\u001b[0m \u001b[0mbatman\u001b[0m\u001b[0;34m.\u001b[0m\u001b[0mStar\u001b[0m\u001b[0;34m(\u001b[0m\u001b[0;34m)\u001b[0m\u001b[0;34m\u001b[0m\u001b[0;34m\u001b[0m\u001b[0m\n\u001b[0m\u001b[1;32m     37\u001b[0m     \u001b[0mstar\u001b[0m\u001b[0;34m.\u001b[0m\u001b[0mteff\u001b[0m \u001b[0;34m=\u001b[0m \u001b[0mTe\u001b[0m                      \u001b[0;31m# Effective temperature (in K)\u001b[0m\u001b[0;34m\u001b[0m\u001b[0;34m\u001b[0m\u001b[0m\n\u001b[1;32m     38\u001b[0m     \u001b[0mstar\u001b[0m\u001b[0;34m.\u001b[0m\u001b[0mlogg\u001b[0m \u001b[0;34m=\u001b[0m \u001b[0mlogg\u001b[0m                    \u001b[0;31m# Surface gravity (in cgs)\u001b[0m\u001b[0;34m\u001b[0m\u001b[0;34m\u001b[0m\u001b[0m\n",
      "\u001b[0;31mAttributeError\u001b[0m: module 'batman' has no attribute 'Star'"
     ]
    }
   ],
   "source": [
    "np.random.seed(42)\n",
    "\n",
    "# Set up parameter ranges\n",
    "Rs_range = (0.5, 2.0)                  # Solar radii\n",
    "Rp_range = (0.1, 2.0)                  # Jupiter radii\n",
    "P_range = (1, 10)                      # Days\n",
    "i_range = (85, 95)                     # Degrees\n",
    "a_range = (5, 20)                      # AU\n",
    "t0_range = (2459000, 2459500)          # BJD\n",
    "b_range = (0, 1)                       # Impact parameter\n",
    "Te_range = (5000, 6000)                # K\n",
    "feh_range = (-0.5, 0.5)                # dex\n",
    "logg_range = (3.5, 4.5)                # cgs\n",
    "sigma_range = (10, 100)                # ppm\n",
    "\n",
    "# Generate positive examples\n",
    "n_pos = 1000\n",
    "pos_params = np.zeros((n_pos, 12))\n",
    "pos_params[:, 0] = np.random.uniform(*Rs_range, size=n_pos)\n",
    "pos_params[:, 1] = np.random.uniform(*Rp_range, size=n_pos)\n",
    "pos_params[:, 2] = np.random.uniform(*P_range, size=n_pos)\n",
    "pos_params[:, 3] = np.random.uniform(*i_range, size=n_pos)\n",
    "pos_params[:, 4] = np.random.uniform(*a_range, size=n_pos)\n",
    "pos_params[:, 5] = np.random.uniform(*t0_range, size=n_pos)\n",
    "pos_params[:, 6] = np.random.uniform(*b_range, size=n_pos)\n",
    "pos_params[:, 7] = np.random.uniform(*Te_range, size=n_pos)\n",
    "pos_params[:, 8] = np.random.uniform(*feh_range, size=n_pos)\n",
    "pos_params[:, 9] = np.random.uniform(*logg_range, size=n_pos)\n",
    "pos_params[:, 10] = np.random.uniform(*sigma_range, size=n_pos)\n",
    "pos_params[:, 11] = 1\n",
    "pos_curves = [generate_transit_curve(*params) for params in pos_params]\n",
    "\n",
    "# Generate negative examples\n",
    "n_neg = 1000\n",
    "neg_params = np.zeros((n_neg, 12))\n",
    "neg_params[:, 0] = np.random.uniform(*Rs_range, size=n_neg)\n",
    "neg_params[:, 1] = np.random.uniform(*Rp_range, size=n_neg)\n",
    "neg_params[:, 2] = np.random.uniform(*P_range, size=n_neg)\n",
    "neg_params[:, 3] = np.random.uniform(*i_range, size=n_neg)\n",
    "neg_params[:, 4] = np.random.uniform(*a_range, size=n_neg)\n",
    "neg_params[:, 5] = np.random.uniform(*t0_range, size=n_neg)\n",
    "neg_params[:, 6] = np.random.uniform(*b_range, size=n_neg)\n",
    "neg_params[:, 7] = np.random.uniform(*Te_range, size=n_neg)\n",
    "neg_params[:, 8] = np.random.uniform(*feh_range, size=n_neg)\n",
    "neg_params[:, 9] = np.random.uniform(*logg_range, size=n_neg)\n",
    "neg_params[:, 10] = np.random.uniform(*sigma_range, size=n_neg)\n",
    "neg_params[:, 11] = 0\n",
    "neg_curves = [generate_transit_curve(*params) for params in neg_params]"
   ]
  },
  {
   "cell_type": "code",
   "execution_count": null,
   "id": "74f808c3",
   "metadata": {},
   "outputs": [],
   "source": []
  }
 ],
 "metadata": {
  "kernelspec": {
   "display_name": "Python 3 (ipykernel)",
   "language": "python",
   "name": "python3"
  },
  "language_info": {
   "codemirror_mode": {
    "name": "ipython",
    "version": 3
   },
   "file_extension": ".py",
   "mimetype": "text/x-python",
   "name": "python",
   "nbconvert_exporter": "python",
   "pygments_lexer": "ipython3",
   "version": "3.9.13"
  }
 },
 "nbformat": 4,
 "nbformat_minor": 5
}
